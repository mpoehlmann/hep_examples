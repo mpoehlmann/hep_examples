{
 "cells": [
  {
   "cell_type": "markdown",
   "metadata": {},
   "source": [
    "<font size=\"+3\"><b>Chapter 2: Basic Python, C/C++, and Julia</b></font>"
   ]
  },
  {
   "cell_type": "markdown",
   "metadata": {},
   "source": [
    "This notebook contains a basic introduction to Python, C/C++, and Julia."
   ]
  },
  {
   "cell_type": "markdown",
   "metadata": {},
   "source": [
    "# Overview"
   ]
  },
  {
   "cell_type": "markdown",
   "metadata": {},
   "source": [
    "Throughout this project, I will provide examples in [Python][python], [C/C++][cpp], and [Julia][julia], as these are the languages most widely used in HEP and also the ones I know best. \n",
    "C++ has been the longtime standard in HEP, but lately the use of Python in HEP has notably increased. \n",
    "Currently, I rarely see Julia used in HEP, but in my opinion it is the language of the future.\n",
    "\n",
    "\n",
    "[python]: https://www.python.org\n",
    "[cpp]: https://www.cplusplus.com\n",
    "[julia]: https://julialang.org"
   ]
  },
  {
   "cell_type": "markdown",
   "metadata": {},
   "source": [
    "## Language comparison"
   ]
  },
  {
   "cell_type": "markdown",
   "metadata": {},
   "source": [
    "The language I use depends on the project needs. I primarily look at productivity, performance, and user base.\n",
    "\n",
    "| Language | Productivity | Performance | HEP User Base |\n",
    "| :--- | :---: | :---: | :---: |\n",
    "| Python | ✅ | ❌ | ✅ |\n",
    "| C/C++ | ❌ | ✅ | ✅ |\n",
    "| Julia | ✅ | ✅ | ❌ |\n",
    "\n",
    "You can find a more detailed comparison of these languages [here][langcomp].\n",
    "\n",
    "\n",
    "[langcomp]: https://www.cs.cornell.edu/~bindel/class/cs5220-s14/lectures/lec19.pdf"
   ]
  },
  {
   "cell_type": "markdown",
   "metadata": {},
   "source": [
    "### Productivity"
   ]
  },
  {
   "cell_type": "markdown",
   "metadata": {},
   "source": [
    "Writing Python and Julia code is fast and easy. Both are far more human-readable than C++. \n",
    "Additionally, a task that requires many lines of code in C++ can often be reduced to one or two lines of Python.\n",
    "Python and Julia make integration of open source library very easy."
   ]
  },
  {
   "cell_type": "markdown",
   "metadata": {},
   "source": [
    "### Performance"
   ]
  },
  {
   "cell_type": "markdown",
   "metadata": {},
   "source": [
    "Python is an interpreted high-level language, meaning nothing is compiled beforehand. Instead, each line is processed as it is called.\n",
    "\n",
    "C/C++ is a low-level language meaning it is really fast. It is almost always compiled beforehand (see my ROOT chapter for more discussion on this).\n",
    "\n",
    "Julia is Just-In-Time (JIT) compiled, meaning \"every statement is run using compiled functions which are either compiled right before they are used, or cached compilations from before\" [(source)][jit]. This, along with it core design, makes Julia possess the speed of C++ with the codability of Python.\n",
    "\n",
    "\n",
    "[jit]: http://ucidatascienceinitiative.github.io/IntroToJulia/Html/WhyJulia"
   ]
  },
  {
   "cell_type": "markdown",
   "metadata": {},
   "source": [
    "### User Base"
   ]
  },
  {
   "cell_type": "markdown",
   "metadata": {},
   "source": [
    "At the moment, Python and C++ are used widely in HEP. Some HEP professors don't like change, so this means you may be stuck with one or the other for quite some time.\n",
    "Julia is still a relatively young language so the number of available packages is still quite small in comparison to Python.\n",
    "However, Julia is being adopted quickly in data science, so I predict its usage within physics will considerably increase in the next 5-10 years."
   ]
  },
  {
   "cell_type": "markdown",
   "metadata": {},
   "source": [
    "## Debugging tips"
   ]
  },
  {
   "cell_type": "markdown",
   "metadata": {
    "comments": [
     {
      "body": [
       {
        "created": "2020-07-31T00:16:30.027Z",
        "creator": {
         "image": "https://avatars3.githubusercontent.com/u/45798535?v=4",
         "name": "Michael Poehlmann",
         "user": "mpoehlmann"
        },
        "edited": false,
        "value": "TODO"
       }
      ],
      "id": "anno/0",
      "resolved": false,
      "total": 1
     }
    ]
   },
   "source": [
    "TODO"
   ]
  },
  {
   "cell_type": "markdown",
   "metadata": {},
   "source": [
    "Good luck, just use print statements lol."
   ]
  },
  {
   "cell_type": "markdown",
   "metadata": {},
   "source": [
    "# Python"
   ]
  },
  {
   "cell_type": "markdown",
   "metadata": {},
   "source": [
    "Here, I will give a brief hands-on introduction to Python. See Chapter 3 for advanced applications and packages details."
   ]
  },
  {
   "cell_type": "markdown",
   "metadata": {},
   "source": []
  },
  {
   "cell_type": "markdown",
   "metadata": {},
   "source": [
    "# C/C++"
   ]
  },
  {
   "cell_type": "markdown",
   "metadata": {},
   "source": [
    "# Julia"
   ]
  },
  {
   "cell_type": "markdown",
   "metadata": {},
   "source": [
    "# Examples"
   ]
  },
  {
   "cell_type": "markdown",
   "metadata": {},
   "source": []
  }
 ],
 "metadata": {
  "kernelspec": {
   "display_name": "Python 3",
   "language": "python",
   "name": "python3"
  },
  "language_info": {
   "codemirror_mode": {
    "name": "ipython",
    "version": 3
   },
   "file_extension": ".py",
   "mimetype": "text/x-python",
   "name": "python",
   "nbconvert_exporter": "python",
   "pygments_lexer": "ipython3",
   "version": "3.7.6"
  },
  "widgets": {
   "application/vnd.jupyter.widget-state+json": {
    "state": {},
    "version_major": 2,
    "version_minor": 0
   }
  }
 },
 "nbformat": 4,
 "nbformat_minor": 4
}
