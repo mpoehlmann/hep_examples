{
 "cells": [
  {
   "cell_type": "markdown",
   "metadata": {},
   "source": [
    "<font size=\"+3\"><b>Chapter 3: Advanced Python</b></font>"
   ]
  },
  {
   "cell_type": "markdown",
   "metadata": {},
   "source": [
    "This notebook contains advanced applications of Python and assorted Python package tutorials."
   ]
  },
  {
   "cell_type": "markdown",
   "metadata": {},
   "source": [
    "# Overview"
   ]
  },
  {
   "cell_type": "markdown",
   "metadata": {},
   "source": [
    "Here, I will devote a section to each of the packages I use the most or think are important. \n",
    "All discussion related to machine learning is left for a later chapter.\n",
    "Additionally, plotting tutorials (Matplotlib, Plotly, PyROOT, etc) are saved for a later chapter.\n",
    "In the last section of this chapter, I provide usage examples for packages I do not deem to be essential, but which I think are useful."
   ]
  },
  {
   "cell_type": "markdown",
   "metadata": {},
   "source": [
    "## Optimizing your Python code"
   ]
  },
  {
   "cell_type": "markdown",
   "metadata": {},
   "source": [
    "When using Python for any large-scale project, it is essential to know which parts of your code need to be optimized.\n",
    "Python is much slower than C++ and Julia, so unoptimized Python code will give you plenty of time to rethink your choice career path in HEP (for better or for worse).\n",
    "[This website][prof2] is a good resource for evaluating the performance of the Python code you've written. \n",
    "I will summarize its contents here, along other useful information. \n",
    "The required packages for this are [line-profiler][lp] and [memory-profiler][mp].\n",
    "\n",
    "\n",
    "[prof1]: https://pynash.org/2013/03/06/timing-and-profiling/\n",
    "[prof2]: https://jakevdp.github.io/PythonDataScienceHandbook/01.07-timing-and-profiling.html\n",
    "[lp]: https://pypi.org/project/line-profiler/\n",
    "[mp]: https://pypi.org/project/memory-profiler/"
   ]
  },
  {
   "cell_type": "markdown",
   "metadata": {},
   "source": [
    "### Run time"
   ]
  },
  {
   "cell_type": "markdown",
   "metadata": {},
   "source": [
    "#### Jupyter notebook"
   ]
  },
  {
   "cell_type": "markdown",
   "metadata": {},
   "source": [
    "The ``%time`` line magic in Jupyter can be used to display the run time of a single cell, while the ``%timeit`` line magic evaluates the execution time of the line averaged over multiple runs.\n",
    "The ``%lprun`` line magic shows how long it took each line in a function to run.\n",
    "Let's see some examples of this."
   ]
  },
  {
   "cell_type": "markdown",
   "metadata": {},
   "source": [
    "First, let's define our test functions."
   ]
  },
  {
   "cell_type": "code",
   "execution_count": 1,
   "metadata": {
    "execution": {
     "iopub.execute_input": "2020-07-31T16:49:04.985487Z",
     "iopub.status.busy": "2020-07-31T16:49:04.985152Z",
     "iopub.status.idle": "2020-07-31T16:49:04.993594Z",
     "shell.execute_reply": "2020-07-31T16:49:04.992312Z",
     "shell.execute_reply.started": "2020-07-31T16:49:04.985436Z"
    }
   },
   "outputs": [],
   "source": [
    "def testfunc_append(n):\n",
    "  \"\"\"Create a list of numbers using append.\n",
    "  Args:\n",
    "    n (int): list length\n",
    "  Returns:\n",
    "    l (list): list containing the integers from 0 to n-1 inclusive\n",
    "  \"\"\"\n",
    "  l = []\n",
    "  for i in range(n):\n",
    "    l.append(i)\n",
    "  return\n",
    "  \n",
    "def testfunc_comprehension(n):\n",
    "  \"\"\"Create a list of numbers using list comprehension.\n",
    "  Args:\n",
    "    n (int): list length\n",
    "  Returns:\n",
    "    l (list): list containing the integers from 0 to n-1 inclusive\n",
    "  \"\"\"\n",
    "  l = [ i for i in range(n) ]\n",
    "  return"
   ]
  },
  {
   "cell_type": "markdown",
   "metadata": {},
   "source": [
    "Now let's evaluate their performance. First we will use the ``%time`` command."
   ]
  },
  {
   "cell_type": "code",
   "execution_count": null,
   "metadata": {},
   "outputs": [],
   "source": [
    "%time testfunc_append(10000)\n",
    "%time testfunc_comprehension(10000)"
   ]
  },
  {
   "cell_type": "markdown",
   "metadata": {},
   "source": [
    "Now let's try ``%timeit``."
   ]
  },
  {
   "cell_type": "code",
   "execution_count": null,
   "metadata": {},
   "outputs": [],
   "source": [
    "%timeit testfunc_append(10000)\n",
    "%timeit testfunc_comprehension(10000)"
   ]
  },
  {
   "cell_type": "markdown",
   "metadata": {},
   "source": [
    "You can also time an entire cell with the ``%%timeit`` cell magic."
   ]
  },
  {
   "cell_type": "code",
   "execution_count": null,
   "metadata": {},
   "outputs": [],
   "source": [
    "%%timeit\n",
    "total = 0\n",
    "for i in range(1000):\n",
    "  for j in range(1000):\n",
    "    total += i * (-1) ** j"
   ]
  },
  {
   "cell_type": "markdown",
   "metadata": {},
   "source": [
    "And finally we will look at ``%lprun``. Note we have to load this extension."
   ]
  },
  {
   "cell_type": "code",
   "execution_count": 2,
   "metadata": {
    "execution": {
     "iopub.execute_input": "2020-07-31T16:49:08.832154Z",
     "iopub.status.busy": "2020-07-31T16:49:08.829762Z",
     "iopub.status.idle": "2020-07-31T16:49:08.859876Z",
     "shell.execute_reply": "2020-07-31T16:49:08.858516Z",
     "shell.execute_reply.started": "2020-07-31T16:49:08.832089Z"
    }
   },
   "outputs": [],
   "source": [
    "%load_ext line_profiler"
   ]
  },
  {
   "cell_type": "code",
   "execution_count": 3,
   "metadata": {
    "execution": {
     "iopub.execute_input": "2020-07-31T16:49:09.728139Z",
     "iopub.status.busy": "2020-07-31T16:49:09.727720Z",
     "iopub.status.idle": "2020-07-31T16:49:09.751488Z",
     "shell.execute_reply": "2020-07-31T16:49:09.750291Z",
     "shell.execute_reply.started": "2020-07-31T16:49:09.728091Z"
    }
   },
   "outputs": [
    {
     "data": {
      "text/plain": [
       "Timer unit: 1e-06 s\n",
       "\n",
       "Total time: 0.001351 s\n",
       "File: <ipython-input-1-13b230037c66>\n",
       "Function: testfunc_append at line 1\n",
       "\n",
       "Line #      Hits         Time  Per Hit   % Time  Line Contents\n",
       "==============================================================\n",
       "     1                                           def testfunc_append(n):\n",
       "     2                                             \"\"\"Create a list of numbers using append.\n",
       "     3                                             Args:\n",
       "     4                                               n (int): list length\n",
       "     5                                             Returns:\n",
       "     6                                               l (list): list containing the integers from 0 to n-1 inclusive\n",
       "     7                                             \"\"\"\n",
       "     8         1          6.0      6.0      0.4    l = []\n",
       "     9      1001        606.0      0.6     44.9    for i in range(n):\n",
       "    10      1000        738.0      0.7     54.6      l.append(i)\n",
       "    11         1          1.0      1.0      0.1    return"
      ]
     },
     "metadata": {},
     "output_type": "display_data"
    }
   ],
   "source": [
    "%lprun -u 1e-6 -f testfunc_append testfunc_append(1000)"
   ]
  },
  {
   "cell_type": "code",
   "execution_count": 4,
   "metadata": {
    "execution": {
     "iopub.execute_input": "2020-07-31T16:49:25.568750Z",
     "iopub.status.busy": "2020-07-31T16:49:25.568202Z",
     "iopub.status.idle": "2020-07-31T16:49:25.589422Z",
     "shell.execute_reply": "2020-07-31T16:49:25.587176Z",
     "shell.execute_reply.started": "2020-07-31T16:49:25.568698Z"
    }
   },
   "outputs": [
    {
     "data": {
      "text/plain": [
       "Timer unit: 1e-06 s\n",
       "\n",
       "Total time: 0.000238 s\n",
       "File: <ipython-input-1-13b230037c66>\n",
       "Function: testfunc_comprehension at line 13\n",
       "\n",
       "Line #      Hits         Time  Per Hit   % Time  Line Contents\n",
       "==============================================================\n",
       "    13                                           def testfunc_comprehension(n):\n",
       "    14                                             \"\"\"Create a list of numbers using list comprehension.\n",
       "    15                                             Args:\n",
       "    16                                               n (int): list length\n",
       "    17                                             Returns:\n",
       "    18                                               l (list): list containing the integers from 0 to n-1 inclusive\n",
       "    19                                             \"\"\"\n",
       "    20         1        237.0    237.0     99.6    l = [ i for i in range(n) ]\n",
       "    21         1          1.0      1.0      0.4    return"
      ]
     },
     "metadata": {},
     "output_type": "display_data"
    }
   ],
   "source": [
    "%lprun -u 1e-6 -f testfunc_comprehension testfunc_comprehension(1000)"
   ]
  },
  {
   "cell_type": "markdown",
   "metadata": {},
   "source": [
    "We can see for even this simple example that list comprehension is a notable improvement over using ``append``."
   ]
  },
  {
   "cell_type": "markdown",
   "metadata": {},
   "source": [
    "#### Bash"
   ]
  },
  {
   "cell_type": "markdown",
   "metadata": {},
   "source": [
    "To use the run time profiler in a terminal, use the command:\n",
    "```\n",
    "python -m cProfile -s cumtime -o output.pstats your_script_name.py\n",
    "```\n",
    "Once you have your ``output.pstats`` file, you can visualize it using the following code."
   ]
  },
  {
   "cell_type": "code",
   "execution_count": null,
   "metadata": {},
   "outputs": [],
   "source": [
    "import pstats\n",
    "p = pstats.Stats('data/output.pstats')\n",
    "p.sort_stats('tottime').print_stats(50)"
   ]
  },
  {
   "cell_type": "markdown",
   "metadata": {},
   "source": [
    "### Memory usage"
   ]
  },
  {
   "cell_type": "markdown",
   "metadata": {},
   "source": []
  },
  {
   "cell_type": "markdown",
   "metadata": {},
   "source": [
    "---"
   ]
  },
  {
   "cell_type": "markdown",
   "metadata": {},
   "source": [
    "# numpy"
   ]
  },
  {
   "cell_type": "markdown",
   "metadata": {},
   "source": [
    "# pandas"
   ]
  },
  {
   "cell_type": "markdown",
   "metadata": {},
   "source": [
    "# numba"
   ]
  },
  {
   "cell_type": "markdown",
   "metadata": {},
   "source": [
    "# multiprocess"
   ]
  },
  {
   "cell_type": "markdown",
   "metadata": {},
   "source": [
    "# uproot and awkward"
   ]
  },
  {
   "cell_type": "markdown",
   "metadata": {},
   "source": [
    "# scipy"
   ]
  },
  {
   "cell_type": "markdown",
   "metadata": {},
   "source": [
    "# Other Useful Packages"
   ]
  },
  {
   "cell_type": "markdown",
   "metadata": {},
   "source": [
    "## numericalunits"
   ]
  },
  {
   "cell_type": "markdown",
   "metadata": {},
   "source": [
    "## argparse"
   ]
  },
  {
   "cell_type": "markdown",
   "metadata": {},
   "source": [
    "## sympy"
   ]
  },
  {
   "cell_type": "markdown",
   "metadata": {},
   "source": [
    "## tqdm"
   ]
  },
  {
   "cell_type": "markdown",
   "metadata": {},
   "source": [
    "## ipywidgets"
   ]
  },
  {
   "cell_type": "markdown",
   "metadata": {},
   "source": []
  }
 ],
 "metadata": {
  "kernelspec": {
   "display_name": "Python 3",
   "language": "python",
   "name": "python3"
  },
  "language_info": {
   "codemirror_mode": {
    "name": "ipython",
    "version": 3
   },
   "file_extension": ".py",
   "mimetype": "text/x-python",
   "name": "python",
   "nbconvert_exporter": "python",
   "pygments_lexer": "ipython3",
   "version": "3.7.6"
  },
  "widgets": {
   "application/vnd.jupyter.widget-state+json": {
    "state": {},
    "version_major": 2,
    "version_minor": 0
   }
  }
 },
 "nbformat": 4,
 "nbformat_minor": 4
}
