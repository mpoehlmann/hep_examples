{
 "cells": [
  {
   "cell_type": "markdown",
   "metadata": {},
   "source": [
    "<font size=\"+3\"><b>Chapter 1: Introduction</b></font>"
   ]
  },
  {
   "cell_type": "markdown",
   "metadata": {},
   "source": [
    "This notebook contains instructions for setting up a computing environment and an introduction to ``bash`` and ``jupyter``."
   ]
  },
  {
   "cell_type": "markdown",
   "metadata": {},
   "source": [
    "# Getting Started"
   ]
  },
  {
   "cell_type": "markdown",
   "metadata": {},
   "source": [
    "Welcome to my introduction to analysis in high energy physics (HEP)!\n",
    "In my free time, I have compiled examples of analysis macros, code snippets, and other coding knowledge which I think are useful to graduate students beginning work in HEP.\n",
    "My goal is to help HEP students who have some coding experience to gain proficiency in writing HEP analysis code.\n",
    "Feel free to let me know if you discover any bugs or have requests for specific examples."
   ]
  },
  {
   "cell_type": "markdown",
   "metadata": {},
   "source": [
    "## Text Editor"
   ]
  },
  {
   "cell_type": "markdown",
   "metadata": {},
   "source": [
    "To start, you will need a text editor. My personal favorites are [Sublime Text](https://www.sublimetext.com) and [Jupyterlab](https://jupyterlab.readthedocs.io/en/stable/)."
   ]
  },
  {
   "cell_type": "markdown",
   "metadata": {},
   "source": [
    "### Why Sublime?"
   ]
  },
  {
   "cell_type": "markdown",
   "metadata": {},
   "source": [
    "Sublime's resource usage is very low while simultaneously possessing many advanced features of other top text editors. There is a good amount of community support for custom packages which vastly expand its functionalities. To see the packages I use, see ``tutorials/sublime.md``."
   ]
  },
  {
   "cell_type": "markdown",
   "metadata": {},
   "source": [
    "### Why Jupyterlab?"
   ]
  },
  {
   "cell_type": "markdown",
   "metadata": {},
   "source": [
    "Jupyterlab is a web-based editor that is ideal for working with Jupyter notebooks and other documents like Markdown files or drawio diagrams. The biggest selling point is that Jupyter makes data analysis on a remote server so much nicer! While you can use the [Sublime SFTP package](https://codexns.io/products/sftp_for_sublime) in combination with a terminal SSH connection to sync local and remote analysis, Jupyterlab allows for this all in one place."
   ]
  },
  {
   "cell_type": "markdown",
   "metadata": {},
   "source": []
  }
 ],
 "metadata": {
  "kernelspec": {
   "display_name": "Python 3",
   "language": "python",
   "name": "python3"
  },
  "language_info": {
   "codemirror_mode": {
    "name": "ipython",
    "version": 3
   },
   "file_extension": ".py",
   "mimetype": "text/x-python",
   "name": "python",
   "nbconvert_exporter": "python",
   "pygments_lexer": "ipython3",
   "version": "3.7.6"
  },
  "toc-autonumbering": true,
  "widgets": {
   "application/vnd.jupyter.widget-state+json": {
    "state": {},
    "version_major": 2,
    "version_minor": 0
   }
  }
 },
 "nbformat": 4,
 "nbformat_minor": 4
}
